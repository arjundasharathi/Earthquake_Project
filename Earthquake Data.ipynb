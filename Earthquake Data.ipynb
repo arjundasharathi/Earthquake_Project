{
 "cells": [
  {
   "cell_type": "markdown",
   "metadata": {},
   "source": [
    "# Earthquake API Call"
   ]
  },
  {
   "cell_type": "code",
   "execution_count": 18,
   "metadata": {},
   "outputs": [],
   "source": [
    "# Dependencies and Setup\n",
    "import matplotlib.pyplot as plt\n",
    "import pandas as pd\n",
    "import numpy as np\n",
    "import requests\n",
    "import time\n",
    "# Incorporated citipy to determine city based on latitude and longitude\n",
    "from citipy import citipy"
   ]
  },
  {
   "cell_type": "code",
   "execution_count": 19,
   "metadata": {},
   "outputs": [],
   "source": [
    "url = 'https://earthquake.usgs.gov/fdsnws/event/1/query?format=geojson&starttime=1819-01-01&endtime=2019-12-02&minmagnitude=6'\n",
    "earthquakes = requests.get(url).json()"
   ]
  },
  {
   "cell_type": "code",
   "execution_count": 27,
   "metadata": {},
   "outputs": [
    {
     "data": {
      "text/plain": [
       "geometry      11620\n",
       "id            11620\n",
       "properties    11620\n",
       "type          11620\n",
       "dtype: int64"
      ]
     },
     "execution_count": 27,
     "metadata": {},
     "output_type": "execute_result"
    }
   ],
   "source": [
    "allearthquakes = earthquakes['features']\n",
    "#turn data into a dataframe\n",
    "earthquakerawdata = pd.DataFrame(allearthquakes)\n",
    "earthquakerawdata.count()"
   ]
  },
  {
   "cell_type": "code",
   "execution_count": 22,
   "metadata": {},
   "outputs": [
    {
     "data": {
      "text/plain": [
       "{'type': 'Feature',\n",
       " 'properties': {'mag': 6,\n",
       "  'place': '41km NW of Platanos, Greece',\n",
       "  'time': 1574839422552,\n",
       "  'updated': 1575415107456,\n",
       "  'tz': 120,\n",
       "  'url': 'https://earthquake.usgs.gov/earthquakes/eventpage/us70006dlt',\n",
       "  'detail': 'https://earthquake.usgs.gov/fdsnws/event/1/query?eventid=us70006dlt&format=geojson',\n",
       "  'felt': 108,\n",
       "  'cdi': 5.7,\n",
       "  'mmi': 4.462,\n",
       "  'alert': 'green',\n",
       "  'status': 'reviewed',\n",
       "  'tsunami': 0,\n",
       "  'sig': 615,\n",
       "  'net': 'us',\n",
       "  'code': '70006dlt',\n",
       "  'ids': ',us70006dlt,',\n",
       "  'sources': ',us,',\n",
       "  'types': ',dyfi,geoserve,ground-failure,losspager,moment-tensor,origin,phase-data,shakemap,',\n",
       "  'nst': None,\n",
       "  'dmin': 1.394,\n",
       "  'rms': 1.16,\n",
       "  'gap': 23,\n",
       "  'magType': 'mww',\n",
       "  'type': 'earthquake',\n",
       "  'title': 'M 6.0 - 41km NW of Platanos, Greece'},\n",
       " 'geometry': {'type': 'Point', 'coordinates': [23.2673, 35.7272, 71.76]},\n",
       " 'id': 'us70006dlt'}"
      ]
     },
     "execution_count": 22,
     "metadata": {},
     "output_type": "execute_result"
    }
   ],
   "source": [
    "allearthquakes[0]"
   ]
  },
  {
   "cell_type": "code",
   "execution_count": null,
   "metadata": {},
   "outputs": [],
   "source": []
  }
 ],
 "metadata": {
  "kernelspec": {
   "display_name": "Python 3",
   "language": "python",
   "name": "python3"
  },
  "language_info": {
   "codemirror_mode": {
    "name": "ipython",
    "version": 3
   },
   "file_extension": ".py",
   "mimetype": "text/x-python",
   "name": "python",
   "nbconvert_exporter": "python",
   "pygments_lexer": "ipython3",
   "version": "3.7.3"
  }
 },
 "nbformat": 4,
 "nbformat_minor": 2
}
